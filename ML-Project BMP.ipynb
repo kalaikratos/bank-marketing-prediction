{
 "cells": [
  {
   "cell_type": "markdown",
   "id": "f02aaca5",
   "metadata": {},
   "source": [
    "<b> Bank marketing prediction Machine  learning project\n",
    "    \n",
    "   <b> Submitted by:\n",
    "    \n",
    " <b> KALAIYARASAN DASS"
   ]
  },
  {
   "cell_type": "markdown",
   "id": "636476cd",
   "metadata": {},
   "source": [
    "<b> ML Project - Bank Marketing Prediction \n",
    "    \n",
    "    Tasks to perform \n",
    "    \n",
    "   1 . Read in the file and get basic information about the data, including numerical summaries.</b>"
   ]
  },
  {
   "cell_type": "code",
   "execution_count": 1,
   "id": "ff1816a8",
   "metadata": {},
   "outputs": [],
   "source": [
    "import pandas as pd\n",
    "import warnings\n",
    "warnings.filterwarnings('ignore')"
   ]
  },
  {
   "cell_type": "code",
   "execution_count": 2,
   "id": "5094f195",
   "metadata": {},
   "outputs": [
    {
     "data": {
      "text/html": [
       "<div>\n",
       "<style scoped>\n",
       "    .dataframe tbody tr th:only-of-type {\n",
       "        vertical-align: middle;\n",
       "    }\n",
       "\n",
       "    .dataframe tbody tr th {\n",
       "        vertical-align: top;\n",
       "    }\n",
       "\n",
       "    .dataframe thead th {\n",
       "        text-align: right;\n",
       "    }\n",
       "</style>\n",
       "<table border=\"1\" class=\"dataframe\">\n",
       "  <thead>\n",
       "    <tr style=\"text-align: right;\">\n",
       "      <th></th>\n",
       "      <th>age</th>\n",
       "      <th>job</th>\n",
       "      <th>salary</th>\n",
       "      <th>marital</th>\n",
       "      <th>education</th>\n",
       "      <th>targeted</th>\n",
       "      <th>default</th>\n",
       "      <th>balance</th>\n",
       "      <th>housing</th>\n",
       "      <th>loan</th>\n",
       "      <th>contact</th>\n",
       "      <th>day</th>\n",
       "      <th>month</th>\n",
       "      <th>duration</th>\n",
       "      <th>campaign</th>\n",
       "      <th>pdays</th>\n",
       "      <th>previous</th>\n",
       "      <th>poutcome</th>\n",
       "      <th>response</th>\n",
       "    </tr>\n",
       "  </thead>\n",
       "  <tbody>\n",
       "    <tr>\n",
       "      <th>0</th>\n",
       "      <td>58</td>\n",
       "      <td>management</td>\n",
       "      <td>100000</td>\n",
       "      <td>married</td>\n",
       "      <td>tertiary</td>\n",
       "      <td>yes</td>\n",
       "      <td>no</td>\n",
       "      <td>2143</td>\n",
       "      <td>yes</td>\n",
       "      <td>no</td>\n",
       "      <td>unknown</td>\n",
       "      <td>5</td>\n",
       "      <td>may</td>\n",
       "      <td>261</td>\n",
       "      <td>1</td>\n",
       "      <td>-1</td>\n",
       "      <td>0</td>\n",
       "      <td>unknown</td>\n",
       "      <td>no</td>\n",
       "    </tr>\n",
       "    <tr>\n",
       "      <th>1</th>\n",
       "      <td>44</td>\n",
       "      <td>technician</td>\n",
       "      <td>60000</td>\n",
       "      <td>single</td>\n",
       "      <td>secondary</td>\n",
       "      <td>yes</td>\n",
       "      <td>no</td>\n",
       "      <td>29</td>\n",
       "      <td>yes</td>\n",
       "      <td>no</td>\n",
       "      <td>unknown</td>\n",
       "      <td>5</td>\n",
       "      <td>may</td>\n",
       "      <td>151</td>\n",
       "      <td>1</td>\n",
       "      <td>-1</td>\n",
       "      <td>0</td>\n",
       "      <td>unknown</td>\n",
       "      <td>no</td>\n",
       "    </tr>\n",
       "    <tr>\n",
       "      <th>2</th>\n",
       "      <td>33</td>\n",
       "      <td>entrepreneur</td>\n",
       "      <td>120000</td>\n",
       "      <td>married</td>\n",
       "      <td>secondary</td>\n",
       "      <td>yes</td>\n",
       "      <td>no</td>\n",
       "      <td>2</td>\n",
       "      <td>yes</td>\n",
       "      <td>yes</td>\n",
       "      <td>unknown</td>\n",
       "      <td>5</td>\n",
       "      <td>may</td>\n",
       "      <td>76</td>\n",
       "      <td>1</td>\n",
       "      <td>-1</td>\n",
       "      <td>0</td>\n",
       "      <td>unknown</td>\n",
       "      <td>no</td>\n",
       "    </tr>\n",
       "    <tr>\n",
       "      <th>3</th>\n",
       "      <td>47</td>\n",
       "      <td>blue-collar</td>\n",
       "      <td>20000</td>\n",
       "      <td>married</td>\n",
       "      <td>unknown</td>\n",
       "      <td>no</td>\n",
       "      <td>no</td>\n",
       "      <td>1506</td>\n",
       "      <td>yes</td>\n",
       "      <td>no</td>\n",
       "      <td>unknown</td>\n",
       "      <td>5</td>\n",
       "      <td>may</td>\n",
       "      <td>92</td>\n",
       "      <td>1</td>\n",
       "      <td>-1</td>\n",
       "      <td>0</td>\n",
       "      <td>unknown</td>\n",
       "      <td>no</td>\n",
       "    </tr>\n",
       "    <tr>\n",
       "      <th>4</th>\n",
       "      <td>33</td>\n",
       "      <td>unknown</td>\n",
       "      <td>0</td>\n",
       "      <td>single</td>\n",
       "      <td>unknown</td>\n",
       "      <td>no</td>\n",
       "      <td>no</td>\n",
       "      <td>1</td>\n",
       "      <td>no</td>\n",
       "      <td>no</td>\n",
       "      <td>unknown</td>\n",
       "      <td>5</td>\n",
       "      <td>may</td>\n",
       "      <td>198</td>\n",
       "      <td>1</td>\n",
       "      <td>-1</td>\n",
       "      <td>0</td>\n",
       "      <td>unknown</td>\n",
       "      <td>no</td>\n",
       "    </tr>\n",
       "  </tbody>\n",
       "</table>\n",
       "</div>"
      ],
      "text/plain": [
       "   age           job  salary  marital  education targeted default  balance  \\\n",
       "0   58    management  100000  married   tertiary      yes      no     2143   \n",
       "1   44    technician   60000   single  secondary      yes      no       29   \n",
       "2   33  entrepreneur  120000  married  secondary      yes      no        2   \n",
       "3   47   blue-collar   20000  married    unknown       no      no     1506   \n",
       "4   33       unknown       0   single    unknown       no      no        1   \n",
       "\n",
       "  housing loan  contact  day month  duration  campaign  pdays  previous  \\\n",
       "0     yes   no  unknown    5   may       261         1     -1         0   \n",
       "1     yes   no  unknown    5   may       151         1     -1         0   \n",
       "2     yes  yes  unknown    5   may        76         1     -1         0   \n",
       "3     yes   no  unknown    5   may        92         1     -1         0   \n",
       "4      no   no  unknown    5   may       198         1     -1         0   \n",
       "\n",
       "  poutcome response  \n",
       "0  unknown       no  \n",
       "1  unknown       no  \n",
       "2  unknown       no  \n",
       "3  unknown       no  \n",
       "4  unknown       no  "
      ]
     },
     "execution_count": 2,
     "metadata": {},
     "output_type": "execute_result"
    }
   ],
   "source": [
    "df = pd.read_csv('bank-marketing.csv')\n",
    "df.head()"
   ]
  },
  {
   "cell_type": "code",
   "execution_count": 3,
   "id": "ea8b7017",
   "metadata": {},
   "outputs": [
    {
     "data": {
      "text/plain": [
       "(45211, 19)"
      ]
     },
     "execution_count": 3,
     "metadata": {},
     "output_type": "execute_result"
    }
   ],
   "source": [
    "df.shape"
   ]
  },
  {
   "cell_type": "markdown",
   "id": "692580f1",
   "metadata": {},
   "source": [
    "<b> So, we have 45211 records with 19 collumns </b>"
   ]
  },
  {
   "cell_type": "code",
   "execution_count": 4,
   "id": "0eac5266",
   "metadata": {},
   "outputs": [
    {
     "data": {
      "text/plain": [
       "Index(['age', 'job', 'salary', 'marital', 'education', 'targeted', 'default',\n",
       "       'balance', 'housing', 'loan', 'contact', 'day', 'month', 'duration',\n",
       "       'campaign', 'pdays', 'previous', 'poutcome', 'response'],\n",
       "      dtype='object')"
      ]
     },
     "execution_count": 4,
     "metadata": {},
     "output_type": "execute_result"
    }
   ],
   "source": [
    "df.columns"
   ]
  },
  {
   "cell_type": "markdown",
   "id": "c5cbf43a",
   "metadata": {},
   "source": [
    "<b> response column is our target variable and others are feature columns </b>"
   ]
  },
  {
   "cell_type": "code",
   "execution_count": 5,
   "id": "4ef6f3e1",
   "metadata": {},
   "outputs": [
    {
     "name": "stdout",
     "output_type": "stream",
     "text": [
      "<class 'pandas.core.frame.DataFrame'>\n",
      "RangeIndex: 45211 entries, 0 to 45210\n",
      "Data columns (total 19 columns):\n",
      " #   Column     Non-Null Count  Dtype \n",
      "---  ------     --------------  ----- \n",
      " 0   age        45211 non-null  int64 \n",
      " 1   job        45211 non-null  object\n",
      " 2   salary     45211 non-null  int64 \n",
      " 3   marital    45211 non-null  object\n",
      " 4   education  45211 non-null  object\n",
      " 5   targeted   45211 non-null  object\n",
      " 6   default    45211 non-null  object\n",
      " 7   balance    45211 non-null  int64 \n",
      " 8   housing    45211 non-null  object\n",
      " 9   loan       45211 non-null  object\n",
      " 10  contact    45211 non-null  object\n",
      " 11  day        45211 non-null  int64 \n",
      " 12  month      45211 non-null  object\n",
      " 13  duration   45211 non-null  int64 \n",
      " 14  campaign   45211 non-null  int64 \n",
      " 15  pdays      45211 non-null  int64 \n",
      " 16  previous   45211 non-null  int64 \n",
      " 17  poutcome   45211 non-null  object\n",
      " 18  response   45211 non-null  object\n",
      "dtypes: int64(8), object(11)\n",
      "memory usage: 6.6+ MB\n"
     ]
    }
   ],
   "source": [
    "df.info()"
   ]
  },
  {
   "cell_type": "markdown",
   "id": "eee7af1e",
   "metadata": {},
   "source": [
    "<b> So, there are total 19 columns outta which 8 are numerical and 11 are categorical. and no null value in any column, so that's a good news! </b>"
   ]
  },
  {
   "cell_type": "code",
   "execution_count": 6,
   "id": "a2c79e1a",
   "metadata": {},
   "outputs": [
    {
     "data": {
      "text/html": [
       "<div>\n",
       "<style scoped>\n",
       "    .dataframe tbody tr th:only-of-type {\n",
       "        vertical-align: middle;\n",
       "    }\n",
       "\n",
       "    .dataframe tbody tr th {\n",
       "        vertical-align: top;\n",
       "    }\n",
       "\n",
       "    .dataframe thead th {\n",
       "        text-align: right;\n",
       "    }\n",
       "</style>\n",
       "<table border=\"1\" class=\"dataframe\">\n",
       "  <thead>\n",
       "    <tr style=\"text-align: right;\">\n",
       "      <th></th>\n",
       "      <th>age</th>\n",
       "      <th>salary</th>\n",
       "      <th>balance</th>\n",
       "      <th>day</th>\n",
       "      <th>duration</th>\n",
       "      <th>campaign</th>\n",
       "      <th>pdays</th>\n",
       "      <th>previous</th>\n",
       "    </tr>\n",
       "  </thead>\n",
       "  <tbody>\n",
       "    <tr>\n",
       "      <th>count</th>\n",
       "      <td>45211.000000</td>\n",
       "      <td>45211.000000</td>\n",
       "      <td>45211.000000</td>\n",
       "      <td>45211.000000</td>\n",
       "      <td>45211.000000</td>\n",
       "      <td>45211.000000</td>\n",
       "      <td>45211.000000</td>\n",
       "      <td>45211.000000</td>\n",
       "    </tr>\n",
       "    <tr>\n",
       "      <th>mean</th>\n",
       "      <td>40.936210</td>\n",
       "      <td>57006.171065</td>\n",
       "      <td>1362.272058</td>\n",
       "      <td>15.806419</td>\n",
       "      <td>258.163080</td>\n",
       "      <td>2.763841</td>\n",
       "      <td>40.197828</td>\n",
       "      <td>0.580323</td>\n",
       "    </tr>\n",
       "    <tr>\n",
       "      <th>std</th>\n",
       "      <td>10.618762</td>\n",
       "      <td>32085.718415</td>\n",
       "      <td>3044.765829</td>\n",
       "      <td>8.322476</td>\n",
       "      <td>257.527812</td>\n",
       "      <td>3.098021</td>\n",
       "      <td>100.128746</td>\n",
       "      <td>2.303441</td>\n",
       "    </tr>\n",
       "    <tr>\n",
       "      <th>min</th>\n",
       "      <td>18.000000</td>\n",
       "      <td>0.000000</td>\n",
       "      <td>-8019.000000</td>\n",
       "      <td>1.000000</td>\n",
       "      <td>0.000000</td>\n",
       "      <td>1.000000</td>\n",
       "      <td>-1.000000</td>\n",
       "      <td>0.000000</td>\n",
       "    </tr>\n",
       "    <tr>\n",
       "      <th>25%</th>\n",
       "      <td>33.000000</td>\n",
       "      <td>20000.000000</td>\n",
       "      <td>72.000000</td>\n",
       "      <td>8.000000</td>\n",
       "      <td>103.000000</td>\n",
       "      <td>1.000000</td>\n",
       "      <td>-1.000000</td>\n",
       "      <td>0.000000</td>\n",
       "    </tr>\n",
       "    <tr>\n",
       "      <th>50%</th>\n",
       "      <td>39.000000</td>\n",
       "      <td>60000.000000</td>\n",
       "      <td>448.000000</td>\n",
       "      <td>16.000000</td>\n",
       "      <td>180.000000</td>\n",
       "      <td>2.000000</td>\n",
       "      <td>-1.000000</td>\n",
       "      <td>0.000000</td>\n",
       "    </tr>\n",
       "    <tr>\n",
       "      <th>75%</th>\n",
       "      <td>48.000000</td>\n",
       "      <td>70000.000000</td>\n",
       "      <td>1428.000000</td>\n",
       "      <td>21.000000</td>\n",
       "      <td>319.000000</td>\n",
       "      <td>3.000000</td>\n",
       "      <td>-1.000000</td>\n",
       "      <td>0.000000</td>\n",
       "    </tr>\n",
       "    <tr>\n",
       "      <th>max</th>\n",
       "      <td>95.000000</td>\n",
       "      <td>120000.000000</td>\n",
       "      <td>102127.000000</td>\n",
       "      <td>31.000000</td>\n",
       "      <td>4918.000000</td>\n",
       "      <td>63.000000</td>\n",
       "      <td>871.000000</td>\n",
       "      <td>275.000000</td>\n",
       "    </tr>\n",
       "  </tbody>\n",
       "</table>\n",
       "</div>"
      ],
      "text/plain": [
       "                age         salary        balance           day      duration  \\\n",
       "count  45211.000000   45211.000000   45211.000000  45211.000000  45211.000000   \n",
       "mean      40.936210   57006.171065    1362.272058     15.806419    258.163080   \n",
       "std       10.618762   32085.718415    3044.765829      8.322476    257.527812   \n",
       "min       18.000000       0.000000   -8019.000000      1.000000      0.000000   \n",
       "25%       33.000000   20000.000000      72.000000      8.000000    103.000000   \n",
       "50%       39.000000   60000.000000     448.000000     16.000000    180.000000   \n",
       "75%       48.000000   70000.000000    1428.000000     21.000000    319.000000   \n",
       "max       95.000000  120000.000000  102127.000000     31.000000   4918.000000   \n",
       "\n",
       "           campaign         pdays      previous  \n",
       "count  45211.000000  45211.000000  45211.000000  \n",
       "mean       2.763841     40.197828      0.580323  \n",
       "std        3.098021    100.128746      2.303441  \n",
       "min        1.000000     -1.000000      0.000000  \n",
       "25%        1.000000     -1.000000      0.000000  \n",
       "50%        2.000000     -1.000000      0.000000  \n",
       "75%        3.000000     -1.000000      0.000000  \n",
       "max       63.000000    871.000000    275.000000  "
      ]
     },
     "execution_count": 6,
     "metadata": {},
     "output_type": "execute_result"
    }
   ],
   "source": [
    "df.describe()"
   ]
  },
  {
   "cell_type": "markdown",
   "id": "0a322106",
   "metadata": {},
   "source": [
    "<b> 2 . Describe the pdays column, make note of the mean, median and minimum values. Anything fishy in the values? </b>"
   ]
  },
  {
   "cell_type": "code",
   "execution_count": 7,
   "id": "ccdb4752",
   "metadata": {},
   "outputs": [
    {
     "data": {
      "text/plain": [
       "count    45211.000000\n",
       "mean        40.197828\n",
       "std        100.128746\n",
       "min         -1.000000\n",
       "25%         -1.000000\n",
       "50%         -1.000000\n",
       "75%         -1.000000\n",
       "max        871.000000\n",
       "Name: pdays, dtype: float64"
      ]
     },
     "execution_count": 7,
     "metadata": {},
     "output_type": "execute_result"
    }
   ],
   "source": [
    "df.pdays.describe()"
   ]
  },
  {
   "cell_type": "markdown",
   "id": "8a04af51",
   "metadata": {},
   "source": [
    "<b> yes, there is definitely something fishy going on here, we can see that min value is -1 and 75% of the values are -1. </b>"
   ]
  },
  {
   "cell_type": "code",
   "execution_count": 8,
   "id": "e0796495",
   "metadata": {},
   "outputs": [
    {
     "data": {
      "text/plain": [
       "-1      36954\n",
       " 182      167\n",
       " 92       147\n",
       " 91       126\n",
       " 183      126\n",
       "        ...  \n",
       " 449        1\n",
       " 452        1\n",
       " 648        1\n",
       " 595        1\n",
       " 530        1\n",
       "Name: pdays, Length: 559, dtype: int64"
      ]
     },
     "execution_count": 8,
     "metadata": {},
     "output_type": "execute_result"
    }
   ],
   "source": [
    "df.pdays.value_counts()"
   ]
  },
  {
   "cell_type": "markdown",
   "id": "77560f00",
   "metadata": {},
   "source": [
    "<b> As we can see there are 36,954 records having pvalue -1. this is hurting the overall mean. </b>"
   ]
  },
  {
   "cell_type": "markdown",
   "id": "b4e933a5",
   "metadata": {},
   "source": [
    "<b> So, i did a quick search on UCI machine Learning repo site to check what does the pdays actually means:\n",
    "pdays: number of days that passed by after the client was last contacted from a previous campaign (numeric; 999 means client was not previously contacted)\n",
    "here 999 is replace by -1 </b>"
   ]
  },
  {
   "cell_type": "markdown",
   "id": "d70bb323",
   "metadata": {},
   "source": [
    "<b> So, if pdays = -1, it indicates that this person was not previosly contacted so, we will drop these records because we want to study on people who was involved in the campaign </b>"
   ]
  },
  {
   "cell_type": "code",
   "execution_count": 9,
   "id": "f8f23e93",
   "metadata": {},
   "outputs": [
    {
     "data": {
      "text/html": [
       "<div>\n",
       "<style scoped>\n",
       "    .dataframe tbody tr th:only-of-type {\n",
       "        vertical-align: middle;\n",
       "    }\n",
       "\n",
       "    .dataframe tbody tr th {\n",
       "        vertical-align: top;\n",
       "    }\n",
       "\n",
       "    .dataframe thead th {\n",
       "        text-align: right;\n",
       "    }\n",
       "</style>\n",
       "<table border=\"1\" class=\"dataframe\">\n",
       "  <thead>\n",
       "    <tr style=\"text-align: right;\">\n",
       "      <th></th>\n",
       "      <th>age</th>\n",
       "      <th>job</th>\n",
       "      <th>salary</th>\n",
       "      <th>marital</th>\n",
       "      <th>education</th>\n",
       "      <th>targeted</th>\n",
       "      <th>default</th>\n",
       "      <th>balance</th>\n",
       "      <th>housing</th>\n",
       "      <th>loan</th>\n",
       "      <th>contact</th>\n",
       "      <th>day</th>\n",
       "      <th>month</th>\n",
       "      <th>duration</th>\n",
       "      <th>campaign</th>\n",
       "      <th>pdays</th>\n",
       "      <th>previous</th>\n",
       "      <th>poutcome</th>\n",
       "      <th>response</th>\n",
       "    </tr>\n",
       "  </thead>\n",
       "  <tbody>\n",
       "    <tr>\n",
       "      <th>24060</th>\n",
       "      <td>33</td>\n",
       "      <td>admin.</td>\n",
       "      <td>50000</td>\n",
       "      <td>married</td>\n",
       "      <td>tertiary</td>\n",
       "      <td>yes</td>\n",
       "      <td>no</td>\n",
       "      <td>882</td>\n",
       "      <td>no</td>\n",
       "      <td>no</td>\n",
       "      <td>telephone</td>\n",
       "      <td>21</td>\n",
       "      <td>oct</td>\n",
       "      <td>39</td>\n",
       "      <td>1</td>\n",
       "      <td>151</td>\n",
       "      <td>3</td>\n",
       "      <td>failure</td>\n",
       "      <td>no</td>\n",
       "    </tr>\n",
       "    <tr>\n",
       "      <th>24062</th>\n",
       "      <td>42</td>\n",
       "      <td>admin.</td>\n",
       "      <td>50000</td>\n",
       "      <td>single</td>\n",
       "      <td>secondary</td>\n",
       "      <td>yes</td>\n",
       "      <td>no</td>\n",
       "      <td>-247</td>\n",
       "      <td>yes</td>\n",
       "      <td>yes</td>\n",
       "      <td>telephone</td>\n",
       "      <td>21</td>\n",
       "      <td>oct</td>\n",
       "      <td>519</td>\n",
       "      <td>1</td>\n",
       "      <td>166</td>\n",
       "      <td>1</td>\n",
       "      <td>other</td>\n",
       "      <td>yes</td>\n",
       "    </tr>\n",
       "    <tr>\n",
       "      <th>24064</th>\n",
       "      <td>33</td>\n",
       "      <td>services</td>\n",
       "      <td>70000</td>\n",
       "      <td>married</td>\n",
       "      <td>secondary</td>\n",
       "      <td>yes</td>\n",
       "      <td>no</td>\n",
       "      <td>3444</td>\n",
       "      <td>yes</td>\n",
       "      <td>no</td>\n",
       "      <td>telephone</td>\n",
       "      <td>21</td>\n",
       "      <td>oct</td>\n",
       "      <td>144</td>\n",
       "      <td>1</td>\n",
       "      <td>91</td>\n",
       "      <td>4</td>\n",
       "      <td>failure</td>\n",
       "      <td>yes</td>\n",
       "    </tr>\n",
       "    <tr>\n",
       "      <th>24072</th>\n",
       "      <td>36</td>\n",
       "      <td>management</td>\n",
       "      <td>100000</td>\n",
       "      <td>married</td>\n",
       "      <td>tertiary</td>\n",
       "      <td>yes</td>\n",
       "      <td>no</td>\n",
       "      <td>2415</td>\n",
       "      <td>yes</td>\n",
       "      <td>no</td>\n",
       "      <td>telephone</td>\n",
       "      <td>22</td>\n",
       "      <td>oct</td>\n",
       "      <td>73</td>\n",
       "      <td>1</td>\n",
       "      <td>86</td>\n",
       "      <td>4</td>\n",
       "      <td>other</td>\n",
       "      <td>no</td>\n",
       "    </tr>\n",
       "    <tr>\n",
       "      <th>24077</th>\n",
       "      <td>36</td>\n",
       "      <td>management</td>\n",
       "      <td>100000</td>\n",
       "      <td>married</td>\n",
       "      <td>tertiary</td>\n",
       "      <td>yes</td>\n",
       "      <td>no</td>\n",
       "      <td>0</td>\n",
       "      <td>yes</td>\n",
       "      <td>no</td>\n",
       "      <td>telephone</td>\n",
       "      <td>23</td>\n",
       "      <td>oct</td>\n",
       "      <td>140</td>\n",
       "      <td>1</td>\n",
       "      <td>143</td>\n",
       "      <td>3</td>\n",
       "      <td>failure</td>\n",
       "      <td>yes</td>\n",
       "    </tr>\n",
       "  </tbody>\n",
       "</table>\n",
       "</div>"
      ],
      "text/plain": [
       "       age         job  salary  marital  education targeted default  balance  \\\n",
       "24060   33      admin.   50000  married   tertiary      yes      no      882   \n",
       "24062   42      admin.   50000   single  secondary      yes      no     -247   \n",
       "24064   33    services   70000  married  secondary      yes      no     3444   \n",
       "24072   36  management  100000  married   tertiary      yes      no     2415   \n",
       "24077   36  management  100000  married   tertiary      yes      no        0   \n",
       "\n",
       "      housing loan    contact  day month  duration  campaign  pdays  previous  \\\n",
       "24060      no   no  telephone   21   oct        39         1    151         3   \n",
       "24062     yes  yes  telephone   21   oct       519         1    166         1   \n",
       "24064     yes   no  telephone   21   oct       144         1     91         4   \n",
       "24072     yes   no  telephone   22   oct        73         1     86         4   \n",
       "24077     yes   no  telephone   23   oct       140         1    143         3   \n",
       "\n",
       "      poutcome response  \n",
       "24060  failure       no  \n",
       "24062    other      yes  \n",
       "24064  failure      yes  \n",
       "24072    other       no  \n",
       "24077  failure      yes  "
      ]
     },
     "execution_count": 9,
     "metadata": {},
     "output_type": "execute_result"
    }
   ],
   "source": [
    "df = df.drop(df[df.pdays==-1].index)\n",
    "df.head()"
   ]
  },
  {
   "cell_type": "code",
   "execution_count": 10,
   "id": "9cf330e4",
   "metadata": {},
   "outputs": [
    {
     "data": {
      "text/plain": [
       "(8257, 19)"
      ]
     },
     "execution_count": 10,
     "metadata": {},
     "output_type": "execute_result"
    }
   ],
   "source": [
    "df.shape"
   ]
  },
  {
   "cell_type": "markdown",
   "id": "de851441",
   "metadata": {},
   "source": [
    "<b> 3. Describe the pdays column again, this time limiting yourself to the relevant values of pdays. How different are the mean and the median values? </b>"
   ]
  },
  {
   "cell_type": "code",
   "execution_count": 11,
   "id": "736aa388",
   "metadata": {},
   "outputs": [
    {
     "data": {
      "text/plain": [
       "count    8257.000000\n",
       "mean      224.577692\n",
       "std       115.344035\n",
       "min         1.000000\n",
       "25%       133.000000\n",
       "50%       194.000000\n",
       "75%       327.000000\n",
       "max       871.000000\n",
       "Name: pdays, dtype: float64"
      ]
     },
     "execution_count": 11,
     "metadata": {},
     "output_type": "execute_result"
    }
   ],
   "source": [
    "df.pdays.describe()"
   ]
  },
  {
   "cell_type": "markdown",
   "id": "b33f0597",
   "metadata": {},
   "source": [
    "<b> Now that we have limit ourselves to the relevant values only the mean and median looks better.</b>"
   ]
  },
  {
   "cell_type": "markdown",
   "id": "f6cef332",
   "metadata": {},
   "source": [
    "<b> 4. Plot a horizontal bar graph with the median values of balance for each education level value. Which group has the highest median? </b>"
   ]
  },
  {
   "cell_type": "code",
   "execution_count": 12,
   "id": "0a612d8f",
   "metadata": {},
   "outputs": [],
   "source": [
    "import matplotlib.pyplot as plt\n",
    "import seaborn as sns\n",
    "import numpy as np"
   ]
  },
  {
   "cell_type": "code",
   "execution_count": 13,
   "id": "3673b32c",
   "metadata": {},
   "outputs": [
    {
     "data": {
      "text/plain": [
       "education\n",
       "primary      520.0\n",
       "secondary    527.0\n",
       "tertiary     775.0\n",
       "unknown      782.0\n",
       "Name: balance, dtype: float64"
      ]
     },
     "execution_count": 13,
     "metadata": {},
     "output_type": "execute_result"
    }
   ],
   "source": [
    "df.groupby(['education'])['balance'].agg(np.median)"
   ]
  },
  {
   "cell_type": "code",
   "execution_count": 14,
   "id": "6bcd32e9",
   "metadata": {},
   "outputs": [
    {
     "data": {
      "image/png": "[encoded data removed]",
      "text/plain": [
       "<Figure size 432x288 with 1 Axes>"
      ]
     },
     "metadata": {
      "needs_background": "light"
     },
     "output_type": "display_data"
    }
   ],
   "source": [
    "df.groupby(['education'])['balance'].agg(np.median).plot(kind='barh');"
   ]
  },
  {
   "cell_type": "markdown",
   "id": "4d4a2529",
   "metadata": {},
   "source": [
    "<b> So the unknown group has the highest median, and then tertiary is the second highest </b>"
   ]
  },
  {
   "cell_type": "markdown",
   "id": "5aed4a09",
   "metadata": {},
   "source": [
    "<b> 5. Make a box plot for pdays. Do you see any outliers? </b>"
   ]
  },
  {
   "cell_type": "code",
   "execution_count": 15,
   "id": "209b172d",
   "metadata": {},
   "outputs": [
    {
     "data": {
      "text/plain": [
       "<AxesSubplot:xlabel='pdays'>"
      ]
     },
     "execution_count": 15,
     "metadata": {},
     "output_type": "execute_result"
    },
    {
     "data": {
      "image/png": "[encoded data removed]",
      "text/plain": [
       "<Figure size 432x288 with 1 Axes>"
      ]
     },
     "metadata": {
      "needs_background": "light"
     },
     "output_type": "display_data"
    }
   ],
   "source": [
    "sns.boxplot(df.pdays)"
   ]
  },
  {
   "cell_type": "markdown",
   "id": "12589825",
   "metadata": {},
   "source": [
    "<b> \n",
    "so our median lies at 200, and there are some outliers after 600.</b>"
   ]
  },
  {
   "cell_type": "markdown",
   "id": "686f4ff0",
   "metadata": {},
   "source": [
    "<b> Bivariate Analysis</b>"
   ]
  },
  {
   "cell_type": "markdown",
   "id": "2003c5c0",
   "metadata": {},
   "source": [
    "<b> Convert the response variable to a convenient form </b>"
   ]
  },
  {
   "cell_type": "code",
   "execution_count": 16,
   "id": "712461e2",
   "metadata": {},
   "outputs": [],
   "source": [
    "df = df.replace({'response': {\"yes\": 1,'no':0}})"
   ]
  },
  {
   "cell_type": "code",
   "execution_count": 17,
   "id": "16f7f5df",
   "metadata": {},
   "outputs": [],
   "source": [
    "all_cols = df.columns\n",
    "numerical_cols = df._get_numeric_data().columns.to_list()\n",
    "categorical_cols = list(set(all_cols)- set(numerical_cols))"
   ]
  },
  {
   "cell_type": "code",
   "execution_count": 18,
   "id": "d45f70cc",
   "metadata": {},
   "outputs": [
    {
     "data": {
      "image/png": "[encoded data removed]",
      "text/plain": [
       "<Figure size 864x576 with 2 Axes>"
      ]
     },
     "metadata": {
      "needs_background": "light"
     },
     "output_type": "display_data"
    }
   ],
   "source": [
    "plt.figure(figsize=(12,8))\n",
    "sns.heatmap(df.corr(), annot=True);"
   ]
  },
  {
   "cell_type": "markdown",
   "id": "cb689d7f",
   "metadata": {},
   "source": [
    "<b> Histograms </b>"
   ]
  },
  {
   "cell_type": "code",
   "execution_count": 19,
   "id": "6eda0b76",
   "metadata": {},
   "outputs": [],
   "source": [
    "import warnings\n",
    "warnings.filterwarnings(\"ignore\")"
   ]
  },
  {
   "cell_type": "code",
   "execution_count": 20,
   "id": "59b23eeb",
   "metadata": {},
   "outputs": [
    {
     "data": {
      "image/png": "[encoded data removed]",
      "text/plain": [
       "<Figure size 485.25x432 with 1 Axes>"
      ]
     },
     "metadata": {
      "needs_background": "light"
     },
     "output_type": "display_data"
    },
    {
     "data": {
      "image/png": "[encoded data removed]",
      "text/plain": [
       "<Figure size 485.25x432 with 1 Axes>"
      ]
     },
     "metadata": {
      "needs_background": "light"
     },
     "output_type": "display_data"
    },
    {
     "data": {
      "image/png": "[encoded data removed]",
      "text/plain": [
       "<Figure size 485.25x432 with 1 Axes>"
      ]
     },
     "metadata": {
      "needs_background": "light"
     },
     "output_type": "display_data"
    },
    {
     "data": {
      "image/png": "[encoded data removed]",
      "text/plain": [
       "<Figure size 485.25x432 with 1 Axes>"
      ]
     },
     "metadata": {
      "needs_background": "light"
     },
     "output_type": "display_data"
    },
    {
     "data": {
      "image/png": "[encoded data removed]",
      "text/plain": [
       "<Figure size 485.25x432 with 1 Axes>"
      ]
     },
     "metadata": {
      "needs_background": "light"
     },
     "output_type": "display_data"
    },
    {
     "data": {
      "image/png": "[encoded data removed]",
      "text/plain": [
       "<Figure size 485.25x432 with 1 Axes>"
      ]
     },
     "metadata": {
      "needs_background": "light"
     },
     "output_type": "display_data"
    },
    {
     "data": {
      "image/png": "[encoded data removed]",
      "text/plain": [
       "<Figure size 485.25x432 with 1 Axes>"
      ]
     },
     "metadata": {
      "needs_background": "light"
     },
     "output_type": "display_data"
    },
    {
     "data": {
      "image/png": "[encoded data removed]",
      "text/plain": [
       "<Figure size 485.25x432 with 1 Axes>"
      ]
     },
     "metadata": {
      "needs_background": "light"
     },
     "output_type": "display_data"
    }
   ],
   "source": [
    "for col in numerical_cols:\n",
    "    if col != 'response':\n",
    "        sns.FacetGrid(df, hue='response', height=6).map(sns.distplot, col).add_legend()"
   ]
  },
  {
   "cell_type": "markdown",
   "id": "568512ee",
   "metadata": {},
   "source": [
    "<b> Box Plots </b>"
   ]
  },
  {
   "cell_type": "code",
   "execution_count": 21,
   "id": "3fd96ac7",
   "metadata": {},
   "outputs": [
    {
     "data": {
      "image/png": "[encoded data removed]",
      "text/plain": [
       "<Figure size 1440x1800 with 8 Axes>"
      ]
     },
     "metadata": {
      "needs_background": "light"
     },
     "output_type": "display_data"
    }
   ],
   "source": [
    "fig, axes = plt.subplots(nrows=4, ncols=2, figsize=(20, 25))\n",
    "\n",
    "for ax, col in list(zip(axes.flat, numerical_cols)):   \n",
    "    if col != 'response':    \n",
    "        sns.boxplot(col, data=df, ax=ax)"
   ]
  },
  {
   "cell_type": "code",
   "execution_count": 22,
   "id": "0acffa02",
   "metadata": {},
   "outputs": [
    {
     "data": {
      "image/png": "[encoded data removed]",
      "text/plain": [
       "<Figure size 1440x1800 with 10 Axes>"
      ]
     },
     "metadata": {
      "needs_background": "light"
     },
     "output_type": "display_data"
    }
   ],
   "source": [
    "fig, axes = plt.subplots(nrows=5, ncols=2, figsize=(20, 25))\n",
    "\n",
    "for ax, col in list(zip(axes.flat, categorical_cols)):        \n",
    "    sns.countplot(col, data=df,hue=df['response'], ax=ax)"
   ]
  },
  {
   "cell_type": "markdown",
   "id": "4cd96472",
   "metadata": {},
   "source": [
    "<b> 6.Are the features about the previous campaign data useful? </b>"
   ]
  },
  {
   "cell_type": "code",
   "execution_count": 23,
   "id": "9f42de22",
   "metadata": {},
   "outputs": [
    {
     "data": {
      "text/plain": [
       "age         0.072577\n",
       "salary      0.036774\n",
       "balance     0.076995\n",
       "day         0.029952\n",
       "duration    0.342610\n",
       "campaign   -0.094110\n",
       "pdays      -0.152206\n",
       "previous    0.008622\n",
       "response    1.000000\n",
       "Name: response, dtype: float64"
      ]
     },
     "execution_count": 23,
     "metadata": {},
     "output_type": "execute_result"
    }
   ],
   "source": [
    "df[numerical_cols].corr()['response']"
   ]
  },
  {
   "cell_type": "markdown",
   "id": "c0233cbc",
   "metadata": {},
   "source": [
    "<b> From the above, we can see previous collumns is not highly corelated with the response variable.</b>"
   ]
  },
  {
   "cell_type": "markdown",
   "id": "a4dba46f",
   "metadata": {},
   "source": [
    "<b> 7. Are pdays and poutcome associated with the target? If yes, and if you plan to use them – how do you handle the pdays column with a value of -1 where the previous campaign data is missing? Explain your approach and your decision.\n",
    "yes, if the previous outcome is success there is a high chance to get successful response again, so i will use poutcome in my final model.\n",
    "\n",
    "if pdays = -1, it indicates that this person was not previosly contacted so, i have dropped these records because we want to study on people who was involved in the campaign</b>"
   ]
  },
  {
   "cell_type": "markdown",
   "id": "3792449b",
   "metadata": {},
   "source": [
    "<b> Data Preprocessing</b>"
   ]
  },
  {
   "cell_type": "markdown",
   "id": "653dcae1",
   "metadata": {},
   "source": [
    "<b> Dropping collumns with unknown values, because those hurts the distributions </b>"
   ]
  },
  {
   "cell_type": "code",
   "execution_count": 24,
   "id": "ae6b9a96",
   "metadata": {},
   "outputs": [],
   "source": [
    "df.drop(df[df['poutcome']=='unknown'].index, inplace=True)\n",
    "df.drop(df[df['contact']=='unknown'].index, inplace=True)\n",
    "df.drop(df[df['job']=='unknown'].index, inplace=True)"
   ]
  },
  {
   "cell_type": "code",
   "execution_count": 25,
   "id": "3f9352be",
   "metadata": {},
   "outputs": [],
   "source": [
    "df.job = df.job.str.replace('admin.', 'admin') "
   ]
  },
  {
   "cell_type": "markdown",
   "id": "dff037bc",
   "metadata": {},
   "source": [
    "<b>Convert Categorical Features into Numerical</b>"
   ]
  },
  {
   "cell_type": "code",
   "execution_count": 26,
   "id": "1befb7ef",
   "metadata": {},
   "outputs": [],
   "source": [
    "df_final = df.copy(deep=True)"
   ]
  },
  {
   "cell_type": "code",
   "execution_count": 27,
   "id": "cf526409",
   "metadata": {},
   "outputs": [],
   "source": [
    "from sklearn.preprocessing import LabelEncoder\n",
    "df_final[categorical_cols] = df[categorical_cols].apply(LabelEncoder().fit_transform)"
   ]
  },
  {
   "cell_type": "code",
   "execution_count": 28,
   "id": "d9895d40",
   "metadata": {},
   "outputs": [
    {
     "data": {
      "text/html": [
       "<div>\n",
       "<style scoped>\n",
       "    .dataframe tbody tr th:only-of-type {\n",
       "        vertical-align: middle;\n",
       "    }\n",
       "\n",
       "    .dataframe tbody tr th {\n",
       "        vertical-align: top;\n",
       "    }\n",
       "\n",
       "    .dataframe thead th {\n",
       "        text-align: right;\n",
       "    }\n",
       "</style>\n",
       "<table border=\"1\" class=\"dataframe\">\n",
       "  <thead>\n",
       "    <tr style=\"text-align: right;\">\n",
       "      <th></th>\n",
       "      <th>age</th>\n",
       "      <th>job</th>\n",
       "      <th>salary</th>\n",
       "      <th>marital</th>\n",
       "      <th>education</th>\n",
       "      <th>targeted</th>\n",
       "      <th>default</th>\n",
       "      <th>balance</th>\n",
       "      <th>housing</th>\n",
       "      <th>loan</th>\n",
       "      <th>contact</th>\n",
       "      <th>day</th>\n",
       "      <th>month</th>\n",
       "      <th>duration</th>\n",
       "      <th>campaign</th>\n",
       "      <th>pdays</th>\n",
       "      <th>previous</th>\n",
       "      <th>poutcome</th>\n",
       "      <th>response</th>\n",
       "    </tr>\n",
       "  </thead>\n",
       "  <tbody>\n",
       "    <tr>\n",
       "      <th>24060</th>\n",
       "      <td>33</td>\n",
       "      <td>0</td>\n",
       "      <td>50000</td>\n",
       "      <td>1</td>\n",
       "      <td>2</td>\n",
       "      <td>1</td>\n",
       "      <td>0</td>\n",
       "      <td>882</td>\n",
       "      <td>0</td>\n",
       "      <td>0</td>\n",
       "      <td>1</td>\n",
       "      <td>21</td>\n",
       "      <td>10</td>\n",
       "      <td>39</td>\n",
       "      <td>1</td>\n",
       "      <td>151</td>\n",
       "      <td>3</td>\n",
       "      <td>0</td>\n",
       "      <td>0</td>\n",
       "    </tr>\n",
       "    <tr>\n",
       "      <th>24062</th>\n",
       "      <td>42</td>\n",
       "      <td>0</td>\n",
       "      <td>50000</td>\n",
       "      <td>2</td>\n",
       "      <td>1</td>\n",
       "      <td>1</td>\n",
       "      <td>0</td>\n",
       "      <td>-247</td>\n",
       "      <td>1</td>\n",
       "      <td>1</td>\n",
       "      <td>1</td>\n",
       "      <td>21</td>\n",
       "      <td>10</td>\n",
       "      <td>519</td>\n",
       "      <td>1</td>\n",
       "      <td>166</td>\n",
       "      <td>1</td>\n",
       "      <td>1</td>\n",
       "      <td>1</td>\n",
       "    </tr>\n",
       "    <tr>\n",
       "      <th>24064</th>\n",
       "      <td>33</td>\n",
       "      <td>7</td>\n",
       "      <td>70000</td>\n",
       "      <td>1</td>\n",
       "      <td>1</td>\n",
       "      <td>1</td>\n",
       "      <td>0</td>\n",
       "      <td>3444</td>\n",
       "      <td>1</td>\n",
       "      <td>0</td>\n",
       "      <td>1</td>\n",
       "      <td>21</td>\n",
       "      <td>10</td>\n",
       "      <td>144</td>\n",
       "      <td>1</td>\n",
       "      <td>91</td>\n",
       "      <td>4</td>\n",
       "      <td>0</td>\n",
       "      <td>1</td>\n",
       "    </tr>\n",
       "    <tr>\n",
       "      <th>24072</th>\n",
       "      <td>36</td>\n",
       "      <td>4</td>\n",
       "      <td>100000</td>\n",
       "      <td>1</td>\n",
       "      <td>2</td>\n",
       "      <td>1</td>\n",
       "      <td>0</td>\n",
       "      <td>2415</td>\n",
       "      <td>1</td>\n",
       "      <td>0</td>\n",
       "      <td>1</td>\n",
       "      <td>22</td>\n",
       "      <td>10</td>\n",
       "      <td>73</td>\n",
       "      <td>1</td>\n",
       "      <td>86</td>\n",
       "      <td>4</td>\n",
       "      <td>1</td>\n",
       "      <td>0</td>\n",
       "    </tr>\n",
       "    <tr>\n",
       "      <th>24077</th>\n",
       "      <td>36</td>\n",
       "      <td>4</td>\n",
       "      <td>100000</td>\n",
       "      <td>1</td>\n",
       "      <td>2</td>\n",
       "      <td>1</td>\n",
       "      <td>0</td>\n",
       "      <td>0</td>\n",
       "      <td>1</td>\n",
       "      <td>0</td>\n",
       "      <td>1</td>\n",
       "      <td>23</td>\n",
       "      <td>10</td>\n",
       "      <td>140</td>\n",
       "      <td>1</td>\n",
       "      <td>143</td>\n",
       "      <td>3</td>\n",
       "      <td>0</td>\n",
       "      <td>1</td>\n",
       "    </tr>\n",
       "  </tbody>\n",
       "</table>\n",
       "</div>"
      ],
      "text/plain": [
       "       age  job  salary  marital  education  targeted  default  balance  \\\n",
       "24060   33    0   50000        1          2         1        0      882   \n",
       "24062   42    0   50000        2          1         1        0     -247   \n",
       "24064   33    7   70000        1          1         1        0     3444   \n",
       "24072   36    4  100000        1          2         1        0     2415   \n",
       "24077   36    4  100000        1          2         1        0        0   \n",
       "\n",
       "       housing  loan  contact  day  month  duration  campaign  pdays  \\\n",
       "24060        0     0        1   21     10        39         1    151   \n",
       "24062        1     1        1   21     10       519         1    166   \n",
       "24064        1     0        1   21     10       144         1     91   \n",
       "24072        1     0        1   22     10        73         1     86   \n",
       "24077        1     0        1   23     10       140         1    143   \n",
       "\n",
       "       previous  poutcome  response  \n",
       "24060         3         0         0  \n",
       "24062         1         1         1  \n",
       "24064         4         0         1  \n",
       "24072         4         1         0  \n",
       "24077         3         0         1  "
      ]
     },
     "execution_count": 28,
     "metadata": {},
     "output_type": "execute_result"
    }
   ],
   "source": [
    "df_final.head()"
   ]
  },
  {
   "cell_type": "markdown",
   "id": "c98aafd6",
   "metadata": {},
   "source": [
    "<b> Train-Test Split</b>"
   ]
  },
  {
   "cell_type": "code",
   "execution_count": 29,
   "id": "d6e0580b",
   "metadata": {},
   "outputs": [],
   "source": [
    "y = df_final.pop('response')\n",
    "X = df_final"
   ]
  },
  {
   "cell_type": "code",
   "execution_count": 30,
   "id": "953ecb21",
   "metadata": {},
   "outputs": [
    {
     "data": {
      "text/plain": [
       "((5704, 18), (5704,))"
      ]
     },
     "execution_count": 30,
     "metadata": {},
     "output_type": "execute_result"
    }
   ],
   "source": [
    "from sklearn.model_selection import train_test_split\n",
    "X_train,X_test,y_train,y_test = train_test_split(X,y,test_size = 0.3,random_state=1)\n",
    "X_train.shape, y_train.shape"
   ]
  },
  {
   "cell_type": "markdown",
   "id": "9d9196d6",
   "metadata": {},
   "source": [
    "<b> Feature scaling</b>"
   ]
  },
  {
   "cell_type": "code",
   "execution_count": 31,
   "id": "8fda8482",
   "metadata": {},
   "outputs": [],
   "source": [
    "from sklearn.preprocessing import StandardScaler\n",
    "sc = StandardScaler()"
   ]
  },
  {
   "cell_type": "code",
   "execution_count": 33,
   "id": "e4d8fc9d",
   "metadata": {},
   "outputs": [
    {
     "data": {
      "text/plain": [
       "StandardScaler()"
      ]
     },
     "execution_count": 33,
     "metadata": {},
     "output_type": "execute_result"
    }
   ],
   "source": [
    "sc.fit(X_train[numerical_cols[:-1]])"
   ]
  },
  {
   "cell_type": "code",
   "execution_count": 34,
   "id": "79fdc963",
   "metadata": {},
   "outputs": [
    {
     "data": {
      "text/html": [
       "<div>\n",
       "<style scoped>\n",
       "    .dataframe tbody tr th:only-of-type {\n",
       "        vertical-align: middle;\n",
       "    }\n",
       "\n",
       "    .dataframe tbody tr th {\n",
       "        vertical-align: top;\n",
       "    }\n",
       "\n",
       "    .dataframe thead th {\n",
       "        text-align: right;\n",
       "    }\n",
       "</style>\n",
       "<table border=\"1\" class=\"dataframe\">\n",
       "  <thead>\n",
       "    <tr style=\"text-align: right;\">\n",
       "      <th></th>\n",
       "      <th>age</th>\n",
       "      <th>job</th>\n",
       "      <th>salary</th>\n",
       "      <th>marital</th>\n",
       "      <th>education</th>\n",
       "      <th>targeted</th>\n",
       "      <th>default</th>\n",
       "      <th>balance</th>\n",
       "      <th>housing</th>\n",
       "      <th>loan</th>\n",
       "      <th>contact</th>\n",
       "      <th>day</th>\n",
       "      <th>month</th>\n",
       "      <th>duration</th>\n",
       "      <th>campaign</th>\n",
       "      <th>pdays</th>\n",
       "      <th>previous</th>\n",
       "      <th>poutcome</th>\n",
       "    </tr>\n",
       "  </thead>\n",
       "  <tbody>\n",
       "    <tr>\n",
       "      <th>40491</th>\n",
       "      <td>1.049063</td>\n",
       "      <td>0</td>\n",
       "      <td>-0.250633</td>\n",
       "      <td>2</td>\n",
       "      <td>1</td>\n",
       "      <td>1</td>\n",
       "      <td>0</td>\n",
       "      <td>0.120390</td>\n",
       "      <td>0</td>\n",
       "      <td>0</td>\n",
       "      <td>1</td>\n",
       "      <td>-0.924492</td>\n",
       "      <td>5</td>\n",
       "      <td>-0.763877</td>\n",
       "      <td>-0.053701</td>\n",
       "      <td>-1.328660</td>\n",
       "      <td>0.163412</td>\n",
       "      <td>0</td>\n",
       "    </tr>\n",
       "    <tr>\n",
       "      <th>43777</th>\n",
       "      <td>0.961920</td>\n",
       "      <td>0</td>\n",
       "      <td>-0.250633</td>\n",
       "      <td>2</td>\n",
       "      <td>1</td>\n",
       "      <td>1</td>\n",
       "      <td>0</td>\n",
       "      <td>-0.265456</td>\n",
       "      <td>1</td>\n",
       "      <td>0</td>\n",
       "      <td>0</td>\n",
       "      <td>1.224110</td>\n",
       "      <td>8</td>\n",
       "      <td>1.884625</td>\n",
       "      <td>-0.686580</td>\n",
       "      <td>1.395901</td>\n",
       "      <td>1.171091</td>\n",
       "      <td>0</td>\n",
       "    </tr>\n",
       "    <tr>\n",
       "      <th>32747</th>\n",
       "      <td>0.526205</td>\n",
       "      <td>0</td>\n",
       "      <td>-0.250633</td>\n",
       "      <td>2</td>\n",
       "      <td>0</td>\n",
       "      <td>1</td>\n",
       "      <td>0</td>\n",
       "      <td>-0.278923</td>\n",
       "      <td>0</td>\n",
       "      <td>0</td>\n",
       "      <td>0</td>\n",
       "      <td>0.339392</td>\n",
       "      <td>0</td>\n",
       "      <td>-0.802510</td>\n",
       "      <td>-0.686580</td>\n",
       "      <td>-0.672247</td>\n",
       "      <td>-0.441195</td>\n",
       "      <td>0</td>\n",
       "    </tr>\n",
       "    <tr>\n",
       "      <th>44680</th>\n",
       "      <td>-1.216658</td>\n",
       "      <td>6</td>\n",
       "      <td>0.065422</td>\n",
       "      <td>2</td>\n",
       "      <td>2</td>\n",
       "      <td>0</td>\n",
       "      <td>0</td>\n",
       "      <td>-0.317445</td>\n",
       "      <td>0</td>\n",
       "      <td>0</td>\n",
       "      <td>1</td>\n",
       "      <td>-1.430045</td>\n",
       "      <td>11</td>\n",
       "      <td>1.214987</td>\n",
       "      <td>4.376450</td>\n",
       "      <td>2.178200</td>\n",
       "      <td>-0.239659</td>\n",
       "      <td>0</td>\n",
       "    </tr>\n",
       "    <tr>\n",
       "      <th>32910</th>\n",
       "      <td>0.177632</td>\n",
       "      <td>4</td>\n",
       "      <td>1.329641</td>\n",
       "      <td>1</td>\n",
       "      <td>2</td>\n",
       "      <td>1</td>\n",
       "      <td>0</td>\n",
       "      <td>-0.438022</td>\n",
       "      <td>1</td>\n",
       "      <td>0</td>\n",
       "      <td>0</td>\n",
       "      <td>0.339392</td>\n",
       "      <td>0</td>\n",
       "      <td>-0.562127</td>\n",
       "      <td>1.212056</td>\n",
       "      <td>1.027231</td>\n",
       "      <td>-0.441195</td>\n",
       "      <td>1</td>\n",
       "    </tr>\n",
       "  </tbody>\n",
       "</table>\n",
       "</div>"
      ],
      "text/plain": [
       "            age  job    salary  marital  education  targeted  default  \\\n",
       "40491  1.049063    0 -0.250633        2          1         1        0   \n",
       "43777  0.961920    0 -0.250633        2          1         1        0   \n",
       "32747  0.526205    0 -0.250633        2          0         1        0   \n",
       "44680 -1.216658    6  0.065422        2          2         0        0   \n",
       "32910  0.177632    4  1.329641        1          2         1        0   \n",
       "\n",
       "        balance  housing  loan  contact       day  month  duration  campaign  \\\n",
       "40491  0.120390        0     0        1 -0.924492      5 -0.763877 -0.053701   \n",
       "43777 -0.265456        1     0        0  1.224110      8  1.884625 -0.686580   \n",
       "32747 -0.278923        0     0        0  0.339392      0 -0.802510 -0.686580   \n",
       "44680 -0.317445        0     0        1 -1.430045     11  1.214987  4.376450   \n",
       "32910 -0.438022        1     0        0  0.339392      0 -0.562127  1.212056   \n",
       "\n",
       "          pdays  previous  poutcome  \n",
       "40491 -1.328660  0.163412         0  \n",
       "43777  1.395901  1.171091         0  \n",
       "32747 -0.672247 -0.441195         0  \n",
       "44680  2.178200 -0.239659         0  \n",
       "32910  1.027231 -0.441195         1  "
      ]
     },
     "execution_count": 34,
     "metadata": {},
     "output_type": "execute_result"
    }
   ],
   "source": [
    "X_train[numerical_cols[:-1]] = sc.transform(X_train[numerical_cols[:-1]])\n",
    "X_train.head()"
   ]
  },
  {
   "cell_type": "code",
   "execution_count": 35,
   "id": "cfb2be8e",
   "metadata": {},
   "outputs": [
    {
     "data": {
      "text/html": [
       "<div>\n",
       "<style scoped>\n",
       "    .dataframe tbody tr th:only-of-type {\n",
       "        vertical-align: middle;\n",
       "    }\n",
       "\n",
       "    .dataframe tbody tr th {\n",
       "        vertical-align: top;\n",
       "    }\n",
       "\n",
       "    .dataframe thead th {\n",
       "        text-align: right;\n",
       "    }\n",
       "</style>\n",
       "<table border=\"1\" class=\"dataframe\">\n",
       "  <thead>\n",
       "    <tr style=\"text-align: right;\">\n",
       "      <th></th>\n",
       "      <th>age</th>\n",
       "      <th>job</th>\n",
       "      <th>salary</th>\n",
       "      <th>marital</th>\n",
       "      <th>education</th>\n",
       "      <th>targeted</th>\n",
       "      <th>default</th>\n",
       "      <th>balance</th>\n",
       "      <th>housing</th>\n",
       "      <th>loan</th>\n",
       "      <th>contact</th>\n",
       "      <th>day</th>\n",
       "      <th>month</th>\n",
       "      <th>duration</th>\n",
       "      <th>campaign</th>\n",
       "      <th>pdays</th>\n",
       "      <th>previous</th>\n",
       "      <th>poutcome</th>\n",
       "    </tr>\n",
       "  </thead>\n",
       "  <tbody>\n",
       "    <tr>\n",
       "      <th>25359</th>\n",
       "      <td>0.003346</td>\n",
       "      <td>0</td>\n",
       "      <td>-0.250633</td>\n",
       "      <td>1</td>\n",
       "      <td>1</td>\n",
       "      <td>1</td>\n",
       "      <td>0</td>\n",
       "      <td>-0.077231</td>\n",
       "      <td>1</td>\n",
       "      <td>1</td>\n",
       "      <td>0</td>\n",
       "      <td>0.465780</td>\n",
       "      <td>9</td>\n",
       "      <td>0.708467</td>\n",
       "      <td>-0.053701</td>\n",
       "      <td>-0.420473</td>\n",
       "      <td>-0.239659</td>\n",
       "      <td>0</td>\n",
       "    </tr>\n",
       "    <tr>\n",
       "      <th>36458</th>\n",
       "      <td>0.526205</td>\n",
       "      <td>0</td>\n",
       "      <td>-0.250633</td>\n",
       "      <td>2</td>\n",
       "      <td>1</td>\n",
       "      <td>1</td>\n",
       "      <td>0</td>\n",
       "      <td>0.746450</td>\n",
       "      <td>1</td>\n",
       "      <td>0</td>\n",
       "      <td>1</td>\n",
       "      <td>-0.418938</td>\n",
       "      <td>8</td>\n",
       "      <td>-0.866898</td>\n",
       "      <td>0.579177</td>\n",
       "      <td>1.000255</td>\n",
       "      <td>-0.038124</td>\n",
       "      <td>1</td>\n",
       "    </tr>\n",
       "    <tr>\n",
       "      <th>35041</th>\n",
       "      <td>-1.216658</td>\n",
       "      <td>8</td>\n",
       "      <td>-1.704486</td>\n",
       "      <td>2</td>\n",
       "      <td>1</td>\n",
       "      <td>1</td>\n",
       "      <td>0</td>\n",
       "      <td>0.476796</td>\n",
       "      <td>1</td>\n",
       "      <td>0</td>\n",
       "      <td>1</td>\n",
       "      <td>-1.050880</td>\n",
       "      <td>8</td>\n",
       "      <td>-0.849728</td>\n",
       "      <td>1.212056</td>\n",
       "      <td>1.207070</td>\n",
       "      <td>-0.441195</td>\n",
       "      <td>0</td>\n",
       "    </tr>\n",
       "    <tr>\n",
       "      <th>32655</th>\n",
       "      <td>-0.345227</td>\n",
       "      <td>9</td>\n",
       "      <td>0.065422</td>\n",
       "      <td>1</td>\n",
       "      <td>1</td>\n",
       "      <td>1</td>\n",
       "      <td>0</td>\n",
       "      <td>-0.521017</td>\n",
       "      <td>1</td>\n",
       "      <td>0</td>\n",
       "      <td>0</td>\n",
       "      <td>0.339392</td>\n",
       "      <td>0</td>\n",
       "      <td>2.837571</td>\n",
       "      <td>-0.053701</td>\n",
       "      <td>0.361827</td>\n",
       "      <td>-0.038124</td>\n",
       "      <td>0</td>\n",
       "    </tr>\n",
       "    <tr>\n",
       "      <th>35572</th>\n",
       "      <td>0.177632</td>\n",
       "      <td>0</td>\n",
       "      <td>-0.250633</td>\n",
       "      <td>0</td>\n",
       "      <td>1</td>\n",
       "      <td>1</td>\n",
       "      <td>0</td>\n",
       "      <td>-0.447105</td>\n",
       "      <td>1</td>\n",
       "      <td>0</td>\n",
       "      <td>0</td>\n",
       "      <td>-0.924492</td>\n",
       "      <td>8</td>\n",
       "      <td>0.060292</td>\n",
       "      <td>0.579177</td>\n",
       "      <td>1.216062</td>\n",
       "      <td>-0.239659</td>\n",
       "      <td>0</td>\n",
       "    </tr>\n",
       "  </tbody>\n",
       "</table>\n",
       "</div>"
      ],
      "text/plain": [
       "            age  job    salary  marital  education  targeted  default  \\\n",
       "25359  0.003346    0 -0.250633        1          1         1        0   \n",
       "36458  0.526205    0 -0.250633        2          1         1        0   \n",
       "35041 -1.216658    8 -1.704486        2          1         1        0   \n",
       "32655 -0.345227    9  0.065422        1          1         1        0   \n",
       "35572  0.177632    0 -0.250633        0          1         1        0   \n",
       "\n",
       "        balance  housing  loan  contact       day  month  duration  campaign  \\\n",
       "25359 -0.077231        1     1        0  0.465780      9  0.708467 -0.053701   \n",
       "36458  0.746450        1     0        1 -0.418938      8 -0.866898  0.579177   \n",
       "35041  0.476796        1     0        1 -1.050880      8 -0.849728  1.212056   \n",
       "32655 -0.521017        1     0        0  0.339392      0  2.837571 -0.053701   \n",
       "35572 -0.447105        1     0        0 -0.924492      8  0.060292  0.579177   \n",
       "\n",
       "          pdays  previous  poutcome  \n",
       "25359 -0.420473 -0.239659         0  \n",
       "36458  1.000255 -0.038124         1  \n",
       "35041  1.207070 -0.441195         0  \n",
       "32655  0.361827 -0.038124         0  \n",
       "35572  1.216062 -0.239659         0  "
      ]
     },
     "execution_count": 35,
     "metadata": {},
     "output_type": "execute_result"
    }
   ],
   "source": [
    "X_test[numerical_cols[:-1]] = sc.transform(X_test[numerical_cols[:-1]])\n",
    "X_test.head()"
   ]
  },
  {
   "cell_type": "markdown",
   "id": "5149bd47",
   "metadata": {},
   "source": [
    "<b> Predictive model 1: Logistic regression </b>"
   ]
  },
  {
   "cell_type": "code",
   "execution_count": 36,
   "id": "263216fa",
   "metadata": {},
   "outputs": [],
   "source": [
    "from sklearn.linear_model import LogisticRegression\n",
    "from sklearn.metrics import confusion_matrix, accuracy_score,precision_score,recall_score, classification_report\n",
    "from sklearn.model_selection import cross_val_score"
   ]
  },
  {
   "cell_type": "code",
   "execution_count": 37,
   "id": "5cd64e0b",
   "metadata": {},
   "outputs": [],
   "source": [
    "clf = LogisticRegression()"
   ]
  },
  {
   "cell_type": "code",
   "execution_count": 38,
   "id": "d2dda37b",
   "metadata": {},
   "outputs": [
    {
     "data": {
      "text/plain": [
       "LogisticRegression()"
      ]
     },
     "execution_count": 38,
     "metadata": {},
     "output_type": "execute_result"
    }
   ],
   "source": [
    "clf.fit(X_train, y_train)"
   ]
  },
  {
   "cell_type": "code",
   "execution_count": 41,
   "id": "9d755591",
   "metadata": {},
   "outputs": [],
   "source": [
    "y_pred = clf.predict(X_test)"
   ]
  },
  {
   "cell_type": "code",
   "execution_count": 42,
   "id": "56786d66",
   "metadata": {},
   "outputs": [],
   "source": [
    "def show_report(clf, y_true, y_pred): \n",
    "    print('Accuracy: ',accuracy_score(y_true, y_pred))\n",
    "    print('================================')\n",
    "    print('Precision: ',precision_score(y_true, y_pred))\n",
    "    print('================================')\n",
    "    print('Recall: ',recall_score(y_true, y_pred))\n",
    "    print('================================')\n",
    "    print('\\nClassification Report\\n')\n",
    "    print(classification_report(y_true, y_pred))\n",
    "    print('================================')\n",
    "    print('\\nconfusion_matrix\\n')\n",
    "    print(confusion_matrix(y_true, y_pred))\n",
    "    print('================================')\n",
    "    print('\\ncross validation:',cross_val_score(clf, X, y, cv=5))"
   ]
  },
  {
   "cell_type": "code",
   "execution_count": 43,
   "id": "e0e97dc9",
   "metadata": {},
   "outputs": [
    {
     "name": "stdout",
     "output_type": "stream",
     "text": [
      "Accuracy:  0.8253578732106339\n",
      "================================\n",
      "Precision:  0.5051369863013698\n",
      "================================\n",
      "Recall:  0.6812933025404158\n",
      "================================\n",
      "\n",
      "Classification Report\n",
      "\n",
      "              precision    recall  f1-score   support\n",
      "\n",
      "           0       0.93      0.86      0.89      2012\n",
      "           1       0.51      0.68      0.58       433\n",
      "\n",
      "    accuracy                           0.83      2445\n",
      "   macro avg       0.72      0.77      0.73      2445\n",
      "weighted avg       0.85      0.83      0.83      2445\n",
      "\n",
      "================================\n",
      "\n",
      "confusion_matrix\n",
      "\n",
      "[[1723  289]\n",
      " [ 138  295]]\n",
      "================================\n",
      "\n",
      "cross validation: [0.79509202 0.72331288 0.77852761 0.77361963 0.73112339]\n"
     ]
    }
   ],
   "source": [
    "show_report(clf, y_pred, y_test)"
   ]
  },
  {
   "cell_type": "markdown",
   "id": "b4a958b4",
   "metadata": {},
   "source": [
    "<b> RFE Model </b>"
   ]
  },
  {
   "cell_type": "code",
   "execution_count": 44,
   "id": "e0dff902",
   "metadata": {},
   "outputs": [],
   "source": [
    "from sklearn.feature_selection import RFE\n",
    "rfe = RFE(clf, 15)"
   ]
  },
  {
   "cell_type": "code",
   "execution_count": 45,
   "id": "9e3d0704",
   "metadata": {},
   "outputs": [
    {
     "data": {
      "text/plain": [
       "array([1, 3, 1, 1, 1, 4, 1, 1, 1, 1, 1, 1, 2, 1, 1, 1, 1, 1])"
      ]
     },
     "execution_count": 45,
     "metadata": {},
     "output_type": "execute_result"
    }
   ],
   "source": [
    "rfe = rfe.fit(X_train, y_train)\n",
    "ranks = rfe.ranking_\n",
    "ranks"
   ]
  },
  {
   "cell_type": "markdown",
   "id": "5115bb57",
   "metadata": {},
   "source": [
    "<b> The higher values mean that they were dropped at the early stage and the smaller values mean that they survive till the end and prove themselves fittest for the model. In a nutshell, columns with lower ranks are good for us. </b>"
   ]
  },
  {
   "cell_type": "code",
   "execution_count": 46,
   "id": "22c1ec3e",
   "metadata": {},
   "outputs": [
    {
     "name": "stdout",
     "output_type": "stream",
     "text": [
      "Index(['age', 'salary', 'marital', 'education', 'default', 'balance',\n",
      "       'housing', 'loan', 'contact', 'day', 'duration', 'campaign', 'pdays',\n",
      "       'previous', 'poutcome'],\n",
      "      dtype='object')\n"
     ]
    }
   ],
   "source": [
    "print(X_train.columns[rfe.support_])\n",
    "cols = X_train.columns[rfe.support_]\n",
    "clf.fit(X_train[cols],y_train)\n",
    "y_pred2 = clf.predict(X_test[cols])"
   ]
  },
  {
   "cell_type": "code",
   "execution_count": 47,
   "id": "4a7b32f0",
   "metadata": {},
   "outputs": [
    {
     "name": "stdout",
     "output_type": "stream",
     "text": [
      "Accuracy:  0.8233128834355828\n",
      "================================\n",
      "Precision:  0.4982876712328767\n",
      "================================\n",
      "Recall:  0.6767441860465117\n",
      "================================\n",
      "\n",
      "Classification Report\n",
      "\n",
      "              precision    recall  f1-score   support\n",
      "\n",
      "           0       0.93      0.85      0.89      2015\n",
      "           1       0.50      0.68      0.57       430\n",
      "\n",
      "    accuracy                           0.82      2445\n",
      "   macro avg       0.71      0.77      0.73      2445\n",
      "weighted avg       0.85      0.82      0.83      2445\n",
      "\n",
      "================================\n",
      "\n",
      "confusion_matrix\n",
      "\n",
      "[[1722  293]\n",
      " [ 139  291]]\n",
      "================================\n",
      "\n",
      "cross validation: [0.79509202 0.72331288 0.77852761 0.77361963 0.73112339]\n"
     ]
    }
   ],
   "source": [
    "show_report(clf, y_pred2, y_test)"
   ]
  },
  {
   "cell_type": "markdown",
   "id": "1b71774a",
   "metadata": {},
   "source": [
    "<b> VIF</b>"
   ]
  },
  {
   "cell_type": "code",
   "execution_count": 48,
   "id": "01e9d3d7",
   "metadata": {},
   "outputs": [],
   "source": [
    "from statsmodels.stats.outliers_influence import variance_inflation_factor"
   ]
  },
  {
   "cell_type": "code",
   "execution_count": 49,
   "id": "34d13aaf",
   "metadata": {},
   "outputs": [
    {
     "data": {
      "text/html": [
       "<div>\n",
       "<style scoped>\n",
       "    .dataframe tbody tr th:only-of-type {\n",
       "        vertical-align: middle;\n",
       "    }\n",
       "\n",
       "    .dataframe tbody tr th {\n",
       "        vertical-align: top;\n",
       "    }\n",
       "\n",
       "    .dataframe thead th {\n",
       "        text-align: right;\n",
       "    }\n",
       "</style>\n",
       "<table border=\"1\" class=\"dataframe\">\n",
       "  <thead>\n",
       "    <tr style=\"text-align: right;\">\n",
       "      <th></th>\n",
       "      <th>features</th>\n",
       "      <th>VIF</th>\n",
       "    </tr>\n",
       "  </thead>\n",
       "  <tbody>\n",
       "    <tr>\n",
       "      <th>4</th>\n",
       "      <td>default</td>\n",
       "      <td>1.01</td>\n",
       "    </tr>\n",
       "    <tr>\n",
       "      <th>9</th>\n",
       "      <td>day</td>\n",
       "      <td>1.01</td>\n",
       "    </tr>\n",
       "    <tr>\n",
       "      <th>13</th>\n",
       "      <td>previous</td>\n",
       "      <td>1.02</td>\n",
       "    </tr>\n",
       "    <tr>\n",
       "      <th>10</th>\n",
       "      <td>duration</td>\n",
       "      <td>1.03</td>\n",
       "    </tr>\n",
       "    <tr>\n",
       "      <th>5</th>\n",
       "      <td>balance</td>\n",
       "      <td>1.04</td>\n",
       "    </tr>\n",
       "    <tr>\n",
       "      <th>11</th>\n",
       "      <td>campaign</td>\n",
       "      <td>1.04</td>\n",
       "    </tr>\n",
       "    <tr>\n",
       "      <th>8</th>\n",
       "      <td>contact</td>\n",
       "      <td>1.15</td>\n",
       "    </tr>\n",
       "    <tr>\n",
       "      <th>7</th>\n",
       "      <td>loan</td>\n",
       "      <td>1.17</td>\n",
       "    </tr>\n",
       "    <tr>\n",
       "      <th>0</th>\n",
       "      <td>age</td>\n",
       "      <td>1.20</td>\n",
       "    </tr>\n",
       "    <tr>\n",
       "      <th>1</th>\n",
       "      <td>salary</td>\n",
       "      <td>1.21</td>\n",
       "    </tr>\n",
       "    <tr>\n",
       "      <th>12</th>\n",
       "      <td>pdays</td>\n",
       "      <td>1.21</td>\n",
       "    </tr>\n",
       "    <tr>\n",
       "      <th>14</th>\n",
       "      <td>poutcome</td>\n",
       "      <td>1.65</td>\n",
       "    </tr>\n",
       "    <tr>\n",
       "      <th>6</th>\n",
       "      <td>housing</td>\n",
       "      <td>2.40</td>\n",
       "    </tr>\n",
       "    <tr>\n",
       "      <th>3</th>\n",
       "      <td>education</td>\n",
       "      <td>3.89</td>\n",
       "    </tr>\n",
       "    <tr>\n",
       "      <th>2</th>\n",
       "      <td>marital</td>\n",
       "      <td>3.98</td>\n",
       "    </tr>\n",
       "  </tbody>\n",
       "</table>\n",
       "</div>"
      ],
      "text/plain": [
       "     features   VIF\n",
       "4     default  1.01\n",
       "9         day  1.01\n",
       "13   previous  1.02\n",
       "10   duration  1.03\n",
       "5     balance  1.04\n",
       "11   campaign  1.04\n",
       "8     contact  1.15\n",
       "7        loan  1.17\n",
       "0         age  1.20\n",
       "1      salary  1.21\n",
       "12      pdays  1.21\n",
       "14   poutcome  1.65\n",
       "6     housing  2.40\n",
       "3   education  3.89\n",
       "2     marital  3.98"
      ]
     },
     "execution_count": 49,
     "metadata": {},
     "output_type": "execute_result"
    }
   ],
   "source": [
    "vif = pd.DataFrame()\n",
    "vif['features'] = X_train[cols].columns\n",
    "vif['VIF'] = [variance_inflation_factor(X_train[cols].values, i).round(2) for i in range(X_train[cols].shape[1])]\n",
    "vif = vif.sort_values(by='VIF', ascending=True)\n",
    "vif"
   ]
  },
  {
   "cell_type": "markdown",
   "id": "542c36b9",
   "metadata": {},
   "source": [
    "<b> P-value</b>"
   ]
  },
  {
   "cell_type": "code",
   "execution_count": 50,
   "id": "2b957ab1",
   "metadata": {},
   "outputs": [],
   "source": [
    "import statsmodels.api as sm\n",
    "from statsmodels.sandbox.regression.predstd import wls_prediction_std\n",
    "a = sm.add_constant(X_train[cols])\n",
    "b = y_train"
   ]
  },
  {
   "cell_type": "code",
   "execution_count": 51,
   "id": "3a894e6d",
   "metadata": {},
   "outputs": [
    {
     "name": "stdout",
     "output_type": "stream",
     "text": [
      "                            OLS Regression Results                            \n",
      "==============================================================================\n",
      "Dep. Variable:               response   R-squared:                       0.314\n",
      "Model:                            OLS   Adj. R-squared:                  0.313\n",
      "Method:                 Least Squares   F-statistic:                     173.9\n",
      "Date:                Wed, 13 Apr 2022   Prob (F-statistic):               0.00\n",
      "Time:                        11:38:29   Log-Likelihood:                -2047.9\n",
      "No. Observations:                5704   AIC:                             4128.\n",
      "Df Residuals:                    5688   BIC:                             4234.\n",
      "Df Model:                          15                                         \n",
      "Covariance Type:            nonrobust                                         \n",
      "==============================================================================\n",
      "                 coef    std err          t      P>|t|      [0.025      0.975]\n",
      "------------------------------------------------------------------------------\n",
      "const          0.1922      0.017     11.184      0.000       0.158       0.226\n",
      "age            0.0084      0.005      1.550      0.121      -0.002       0.019\n",
      "salary         0.0062      0.005      1.203      0.229      -0.004       0.016\n",
      "marital        0.0134      0.008      1.605      0.109      -0.003       0.030\n",
      "education      0.0250      0.007      3.454      0.001       0.011       0.039\n",
      "default       -0.0313      0.058     -0.538      0.591      -0.145       0.083\n",
      "balance        0.0105      0.005      2.240      0.025       0.001       0.020\n",
      "housing       -0.1664      0.011    -15.459      0.000      -0.187      -0.145\n",
      "loan          -0.0622      0.014     -4.541      0.000      -0.089      -0.035\n",
      "contact       -0.0337      0.018     -1.891      0.059      -0.069       0.001\n",
      "day            0.0053      0.005      1.145      0.252      -0.004       0.014\n",
      "duration       0.1203      0.005     25.816      0.000       0.111       0.129\n",
      "campaign      -0.0221      0.005     -4.709      0.000      -0.031      -0.013\n",
      "pdays          0.0046      0.005      0.907      0.364      -0.005       0.015\n",
      "previous       0.0034      0.005      0.728      0.467      -0.006       0.012\n",
      "poutcome       0.1731      0.006     27.380      0.000       0.161       0.185\n",
      "==============================================================================\n",
      "Omnibus:                      422.816   Durbin-Watson:                   2.014\n",
      "Prob(Omnibus):                  0.000   Jarque-Bera (JB):              521.711\n",
      "Skew:                           0.710   Prob(JB):                    5.15e-114\n",
      "Kurtosis:                       3.424   Cond. No.                         29.0\n",
      "==============================================================================\n",
      "\n",
      "Notes:\n",
      "[1] Standard Errors assume that the covariance matrix of the errors is correctly specified.\n"
     ]
    }
   ],
   "source": [
    "model = sm.OLS(b, a)\n",
    "results = model.fit()\n",
    "print(results.summary())"
   ]
  },
  {
   "cell_type": "code",
   "execution_count": 52,
   "id": "0ddd3aad",
   "metadata": {},
   "outputs": [
    {
     "data": {
      "text/html": [
       "<div>\n",
       "<style scoped>\n",
       "    .dataframe tbody tr th:only-of-type {\n",
       "        vertical-align: middle;\n",
       "    }\n",
       "\n",
       "    .dataframe tbody tr th {\n",
       "        vertical-align: top;\n",
       "    }\n",
       "\n",
       "    .dataframe thead th {\n",
       "        text-align: right;\n",
       "    }\n",
       "</style>\n",
       "<table border=\"1\" class=\"dataframe\">\n",
       "  <thead>\n",
       "    <tr style=\"text-align: right;\">\n",
       "      <th></th>\n",
       "      <th>Column</th>\n",
       "      <th>pvalues</th>\n",
       "    </tr>\n",
       "  </thead>\n",
       "  <tbody>\n",
       "    <tr>\n",
       "      <th>6</th>\n",
       "      <td>housing</td>\n",
       "      <td>0.000</td>\n",
       "    </tr>\n",
       "    <tr>\n",
       "      <th>7</th>\n",
       "      <td>loan</td>\n",
       "      <td>0.000</td>\n",
       "    </tr>\n",
       "    <tr>\n",
       "      <th>10</th>\n",
       "      <td>duration</td>\n",
       "      <td>0.000</td>\n",
       "    </tr>\n",
       "    <tr>\n",
       "      <th>11</th>\n",
       "      <td>campaign</td>\n",
       "      <td>0.000</td>\n",
       "    </tr>\n",
       "    <tr>\n",
       "      <th>14</th>\n",
       "      <td>poutcome</td>\n",
       "      <td>0.000</td>\n",
       "    </tr>\n",
       "    <tr>\n",
       "      <th>3</th>\n",
       "      <td>education</td>\n",
       "      <td>0.001</td>\n",
       "    </tr>\n",
       "    <tr>\n",
       "      <th>5</th>\n",
       "      <td>balance</td>\n",
       "      <td>0.025</td>\n",
       "    </tr>\n",
       "    <tr>\n",
       "      <th>8</th>\n",
       "      <td>contact</td>\n",
       "      <td>0.059</td>\n",
       "    </tr>\n",
       "    <tr>\n",
       "      <th>2</th>\n",
       "      <td>marital</td>\n",
       "      <td>0.109</td>\n",
       "    </tr>\n",
       "    <tr>\n",
       "      <th>0</th>\n",
       "      <td>age</td>\n",
       "      <td>0.121</td>\n",
       "    </tr>\n",
       "    <tr>\n",
       "      <th>1</th>\n",
       "      <td>salary</td>\n",
       "      <td>0.229</td>\n",
       "    </tr>\n",
       "    <tr>\n",
       "      <th>9</th>\n",
       "      <td>day</td>\n",
       "      <td>0.252</td>\n",
       "    </tr>\n",
       "    <tr>\n",
       "      <th>12</th>\n",
       "      <td>pdays</td>\n",
       "      <td>0.364</td>\n",
       "    </tr>\n",
       "    <tr>\n",
       "      <th>13</th>\n",
       "      <td>previous</td>\n",
       "      <td>0.467</td>\n",
       "    </tr>\n",
       "    <tr>\n",
       "      <th>4</th>\n",
       "      <td>default</td>\n",
       "      <td>0.591</td>\n",
       "    </tr>\n",
       "  </tbody>\n",
       "</table>\n",
       "</div>"
      ],
      "text/plain": [
       "       Column  pvalues\n",
       "6     housing    0.000\n",
       "7        loan    0.000\n",
       "10   duration    0.000\n",
       "11   campaign    0.000\n",
       "14   poutcome    0.000\n",
       "3   education    0.001\n",
       "5     balance    0.025\n",
       "8     contact    0.059\n",
       "2     marital    0.109\n",
       "0         age    0.121\n",
       "1      salary    0.229\n",
       "9         day    0.252\n",
       "12      pdays    0.364\n",
       "13   previous    0.467\n",
       "4     default    0.591"
      ]
     },
     "execution_count": 52,
     "metadata": {},
     "output_type": "execute_result"
    }
   ],
   "source": [
    "pvals = []\n",
    "for i in cols:\n",
    "    a = round(results.pvalues[i],3)\n",
    "    pvals.append(a)\n",
    "\n",
    "a = zip(cols, pvals)\n",
    "df_pvals = pd.DataFrame(a, columns=['Column', 'pvalues']).sort_values('pvalues')\n",
    "df_pvals"
   ]
  },
  {
   "cell_type": "code",
   "execution_count": 54,
   "id": "3122cf35",
   "metadata": {},
   "outputs": [
    {
     "data": {
      "text/plain": [
       "['default', 'previous', 'pdays', 'day', 'salary', 'age', 'marital', 'contact']"
      ]
     },
     "execution_count": 54,
     "metadata": {},
     "output_type": "execute_result"
    }
   ],
   "source": [
    "final_features = df_pvals.nlargest(8, 'pvalues')['Column'].to_list()\n",
    "final_features"
   ]
  },
  {
   "cell_type": "markdown",
   "id": "23c34f54",
   "metadata": {},
   "source": [
    "<b> \n",
    "Using selected features </b>"
   ]
  },
  {
   "cell_type": "code",
   "execution_count": 55,
   "id": "772de4d3",
   "metadata": {},
   "outputs": [],
   "source": [
    "clf.fit(X_train[final_features], y_train)\n",
    "y_pred3 = clf.predict(X_test[final_features])"
   ]
  },
  {
   "cell_type": "code",
   "execution_count": 56,
   "id": "f6ac627b",
   "metadata": {},
   "outputs": [
    {
     "name": "stdout",
     "output_type": "stream",
     "text": [
      "Accuracy:  0.7603271983640082\n",
      "================================\n",
      "Precision:  0.0\n",
      "================================\n",
      "Recall:  0.0\n",
      "================================\n",
      "\n",
      "Classification Report\n",
      "\n",
      "              precision    recall  f1-score   support\n",
      "\n",
      "           0       1.00      0.76      0.86      2443\n",
      "           1       0.00      0.00      0.00         2\n",
      "\n",
      "    accuracy                           0.76      2445\n",
      "   macro avg       0.50      0.38      0.43      2445\n",
      "weighted avg       1.00      0.76      0.86      2445\n",
      "\n",
      "================================\n",
      "\n",
      "confusion_matrix\n",
      "\n",
      "[[1859  584]\n",
      " [   2    0]]\n",
      "================================\n",
      "\n",
      "cross validation: [0.79509202 0.72331288 0.77852761 0.77361963 0.73112339]\n"
     ]
    }
   ],
   "source": [
    "show_report(clf, y_pred3, y_test)"
   ]
  },
  {
   "cell_type": "code",
   "execution_count": 57,
   "id": "1f38c71d",
   "metadata": {},
   "outputs": [
    {
     "data": {
      "text/plain": [
       "Index(['housing', 'loan', 'contact', 'duration', 'poutcome'], dtype='object')"
      ]
     },
     "execution_count": 57,
     "metadata": {},
     "output_type": "execute_result"
    }
   ],
   "source": [
    "from sklearn.feature_selection import SelectFromModel\n",
    "smf = SelectFromModel(clf)\n",
    "smf.fit(X_train,y_train)\n",
    "features = smf.get_support()\n",
    "feature_name = X_train.columns[features]\n",
    "feature_name"
   ]
  },
  {
   "cell_type": "markdown",
   "id": "0f491125",
   "metadata": {},
   "source": [
    "<b> So these are the most imposrtant features </b>\n"
   ]
  },
  {
   "cell_type": "markdown",
   "id": "88e36268",
   "metadata": {},
   "source": [
    "<b> Predictive model 2: Random Forest </b>"
   ]
  },
  {
   "cell_type": "markdown",
   "id": "4bcb0e60",
   "metadata": {},
   "source": [
    "<b> Using all features</b>"
   ]
  },
  {
   "cell_type": "code",
   "execution_count": 58,
   "id": "27bfcc74",
   "metadata": {},
   "outputs": [
    {
     "data": {
      "text/plain": [
       "RandomForestClassifier(max_depth=5, n_estimators=48)"
      ]
     },
     "execution_count": 58,
     "metadata": {},
     "output_type": "execute_result"
    }
   ],
   "source": [
    "from sklearn.ensemble import RandomForestClassifier\n",
    "clf2 = RandomForestClassifier(n_estimators=48,max_depth=5)\n",
    "clf2.fit(X_train,y_train)"
   ]
  },
  {
   "cell_type": "code",
   "execution_count": 59,
   "id": "c540477b",
   "metadata": {},
   "outputs": [],
   "source": [
    "y_pred_rf = clf2.predict(X_test)"
   ]
  },
  {
   "cell_type": "code",
   "execution_count": 60,
   "id": "7a9e225d",
   "metadata": {},
   "outputs": [
    {
     "name": "stdout",
     "output_type": "stream",
     "text": [
      "Accuracy:  0.8372188139059304\n",
      "================================\n",
      "Precision:  0.4332191780821918\n",
      "================================\n",
      "Recall:  0.790625\n",
      "================================\n",
      "\n",
      "Classification Report\n",
      "\n",
      "              precision    recall  f1-score   support\n",
      "\n",
      "           0       0.96      0.84      0.90      2125\n",
      "           1       0.43      0.79      0.56       320\n",
      "\n",
      "    accuracy                           0.84      2445\n",
      "   macro avg       0.70      0.82      0.73      2445\n",
      "weighted avg       0.89      0.84      0.86      2445\n",
      "\n",
      "================================\n",
      "\n",
      "confusion_matrix\n",
      "\n",
      "[[1794  331]\n",
      " [  67  253]]\n",
      "================================\n",
      "\n",
      "cross validation: [0.77668712 0.83251534 0.84723926 0.85828221 0.60834868]\n"
     ]
    }
   ],
   "source": [
    "show_report(clf2, y_pred_rf, y_test)"
   ]
  },
  {
   "cell_type": "code",
   "execution_count": 61,
   "id": "38cecefe",
   "metadata": {},
   "outputs": [
    {
     "name": "stdout",
     "output_type": "stream",
     "text": [
      "['poutcome', 'duration', 'housing', 'pdays', 'month']\n"
     ]
    },
    {
     "data": {
      "image/png": "[encoded data removed]",
      "text/plain": [
       "<Figure size 432x288 with 1 Axes>"
      ]
     },
     "metadata": {
      "needs_background": "light"
     },
     "output_type": "display_data"
    }
   ],
   "source": [
    "importances=clf2.feature_importances_\n",
    "feature_importances=pd.Series(importances, index=X_train.columns).sort_values(ascending=False)\n",
    "selected_features = feature_importances.index.to_list()[:5]\n",
    "print(selected_features)\n",
    "sns.barplot(x=feature_importances[0:10], y=feature_importances.index[0:10])\n",
    "plt.title('Feature Importance',size=20)\n",
    "plt.ylabel(\"Features\")\n",
    "plt.show()"
   ]
  },
  {
   "cell_type": "markdown",
   "id": "bd3d17e3",
   "metadata": {},
   "source": [
    "Using Selected Features"
   ]
  },
  {
   "cell_type": "code",
   "execution_count": 62,
   "id": "2d10c90b",
   "metadata": {},
   "outputs": [],
   "source": [
    "clf2.fit(X_train[selected_features], y_train)\n",
    "y_pred_rf2 = clf2.predict(X_test[selected_features])"
   ]
  },
  {
   "cell_type": "code",
   "execution_count": 63,
   "id": "e9c9322b",
   "metadata": {},
   "outputs": [
    {
     "name": "stdout",
     "output_type": "stream",
     "text": [
      "Accuracy:  0.843762781186094\n",
      "================================\n",
      "Precision:  0.5051369863013698\n",
      "================================\n",
      "Recall:  0.7603092783505154\n",
      "================================\n",
      "\n",
      "Classification Report\n",
      "\n",
      "              precision    recall  f1-score   support\n",
      "\n",
      "           0       0.95      0.86      0.90      2057\n",
      "           1       0.51      0.76      0.61       388\n",
      "\n",
      "    accuracy                           0.84      2445\n",
      "   macro avg       0.73      0.81      0.75      2445\n",
      "weighted avg       0.88      0.84      0.86      2445\n",
      "\n",
      "================================\n",
      "\n",
      "confusion_matrix\n",
      "\n",
      "[[1768  289]\n",
      " [  93  295]]\n",
      "================================\n",
      "\n",
      "cross validation: [0.7797546  0.82760736 0.84907975 0.86380368 0.58993247]\n"
     ]
    }
   ],
   "source": [
    "show_report(clf2, y_pred_rf2, y_test)"
   ]
  },
  {
   "cell_type": "markdown",
   "id": "64f23851",
   "metadata": {},
   "source": [
    "# Compare the performance of the Random Forest and the logistic model "
   ]
  },
  {
   "cell_type": "code",
   "execution_count": 64,
   "id": "1e17e326",
   "metadata": {},
   "outputs": [
    {
     "name": "stdout",
     "output_type": "stream",
     "text": [
      "Logistic Regression\n",
      "\n",
      "Accuracy:  0.8253578732106339\n",
      "================================\n",
      "Precision:  0.5051369863013698\n",
      "================================\n",
      "Recall:  0.6812933025404158\n",
      "================================\n",
      "\n",
      "Classification Report\n",
      "\n",
      "              precision    recall  f1-score   support\n",
      "\n",
      "           0       0.93      0.86      0.89      2012\n",
      "           1       0.51      0.68      0.58       433\n",
      "\n",
      "    accuracy                           0.83      2445\n",
      "   macro avg       0.72      0.77      0.73      2445\n",
      "weighted avg       0.85      0.83      0.83      2445\n",
      "\n",
      "================================\n",
      "\n",
      "confusion_matrix\n",
      "\n",
      "[[1723  289]\n",
      " [ 138  295]]\n",
      "================================\n",
      "\n",
      "cross validation: [0.79509202 0.72331288 0.77852761 0.77361963 0.73112339]\n",
      "\n",
      "\n",
      "====================================================================================================\n",
      "====================================================================================================\n",
      "\n",
      "Random Forest Classifier\n",
      "\n",
      "Accuracy:  0.843762781186094\n",
      "================================\n",
      "Precision:  0.5051369863013698\n",
      "================================\n",
      "Recall:  0.7603092783505154\n",
      "================================\n",
      "\n",
      "Classification Report\n",
      "\n",
      "              precision    recall  f1-score   support\n",
      "\n",
      "           0       0.95      0.86      0.90      2057\n",
      "           1       0.51      0.76      0.61       388\n",
      "\n",
      "    accuracy                           0.84      2445\n",
      "   macro avg       0.73      0.81      0.75      2445\n",
      "weighted avg       0.88      0.84      0.86      2445\n",
      "\n",
      "================================\n",
      "\n",
      "confusion_matrix\n",
      "\n",
      "[[1768  289]\n",
      " [  93  295]]\n",
      "================================\n",
      "\n",
      "cross validation: [0.77730061 0.82453988 0.84846626 0.86503067 0.58747698]\n"
     ]
    }
   ],
   "source": [
    "print('Logistic Regression\\n')\n",
    "show_report(clf , y_pred, y_test)\n",
    "print('\\n')\n",
    "print('='*100)\n",
    "print('='*100)\n",
    "print('\\nRandom Forest Classifier\\n')\n",
    "show_report(clf2, y_pred_rf2, y_test)"
   ]
  },
  {
   "cell_type": "markdown",
   "id": "38f24345",
   "metadata": {},
   "source": [
    "The best metric is of randomforest but actually by these confusion matrix we can say that the dataset is highly unbalanced, with nearly all client actually decline to subscribe.This says that the accuracy score is biased, and further evaluation should be carried out to determine the accuracy of logistic regression model.\n",
    "\n",
    "By all these evaluation we can say that the random forest model perform well on the dataset as the score is high.\n",
    "\n",
    "By the evaluation we can say that the top feature is \"Duration\"."
   ]
  },
  {
   "cell_type": "markdown",
   "id": "35ed181c",
   "metadata": {},
   "source": [
    "So Random Forest has less number of false negatives and slightly better accuracy."
   ]
  },
  {
   "cell_type": "code",
   "execution_count": null,
   "id": "d3fb96d7",
   "metadata": {},
   "outputs": [],
   "source": []
  }
 ],
 "metadata": {
  "kernelspec": {
   "display_name": "Python 3 (ipykernel)",
   "language": "python",
   "name": "python3"
  },
  "language_info": {
   "codemirror_mode": {
    "name": "ipython",
    "version": 3
   },
   "file_extension": ".py",
   "mimetype": "text/x-python",
   "name": "python",
   "nbconvert_exporter": "python",
   "pygments_lexer": "ipython3",
   "version": "3.9.7"
  }
 },
 "nbformat": 4,
 "nbformat_minor": 5
}
